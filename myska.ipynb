{
 "cells": [
  {
   "cell_type": "markdown",
   "metadata": {},
   "source": [
    "# **FLOW ACCUMULATION**"
   ]
  },
  {
   "cell_type": "markdown",
   "metadata": {},
   "source": [
    "## Načtení potřebných knihoven\n",
    "\n",
    "**Tato část kódu načítá potřebné knihovny pro vytvoření skriptu na výpočet FLOW ACCUMULATION. Zde je stručný popis každé z použitých knihoven:**\n",
    "\n",
    "- `numpy`: pro práci s numerickými daty a vektorovými operacemi\n",
    "- `pysheds.grid`: pro manipulaci s digitálním modelem terénu (DEM) a hydrologickými analýzami\n",
    "- `matplotlib.pyplot`: pro vizualizaci dat a grafický výstup\n",
    "- `matplotlib.colors`: pro práci s barvami\n",
    "- `matplotlib.patches`: pro vytváření grafických prvků\n",
    "- `seaborn`: pro statistickou vizualizaci dat, rozšíření nad matplotlib\n",
    "- `rasterio`: pro práci s rastry a jejich čtení/zápis"
   ]
  },
  {
   "cell_type": "code",
   "execution_count": 2,
   "metadata": {},
   "outputs": [],
   "source": [
    "# Načtení potřebných knihoven\n",
    "import numpy as np\n",
    "from pysheds.grid import Grid\n",
    "import matplotlib.pyplot as plt\n",
    "from matplotlib import colors\n",
    "import seaborn as sns\n",
    "import rasterio\n",
    "import matplotlib.patches as mpatches"
   ]
  },
  {
   "cell_type": "markdown",
   "metadata": {},
   "source": [
    "## Načtení digitálního modelu terénu (DEM)\n",
    "\n",
    "**Tato část kódu načítá digitální model terénu (DEM) z dané cesty.** \n",
    "\n",
    "- Proměnná `dem_file` obsahuje cestu k souboru DEM.\n",
    "- Proměnná `grid` vytváří objekt Grid z knihovny `pysheds`, který bude použit pro manipulaci s daty DEM. \n",
    "- Proměnná `dem` obsahuje samotná data DEM načtená z souboru pomocí objektu `grid`."
   ]
  },
  {
   "cell_type": "code",
   "execution_count": 6,
   "metadata": {},
   "outputs": [],
   "source": [
    "# Načtení digitálního modelu terénu (DEM) z přiložené cesty\n",
    "grid = Grid.from_raster('data/dem3.tif')\n",
    "dem = grid.read_raster('data/dem3.tif')\n",
    "dem_file = 'data/dem3.tif'"
   ]
  },
  {
   "cell_type": "markdown",
   "metadata": {},
   "source": [
    "## Vytvoření náhledu digitálního modelu terénu (DEM)\n",
    "\n",
    "**Tato část kódu vytváří vizuální náhled digitálního modelu terénu. Graf zobrazuje nadmořské výšky různých oblastí.**\n",
    "\n",
    "- Graf má definovanou velikost a průhledné pozadí, což zajišťuje jeho lepší čitelnost.\n",
    "- Barevné schéma 'terrain' se používá pro zobrazení různých výškových úrovní. Tímto způsobem lze snadno rozlišit různé nadmořské výšky.\n",
    "- Legenda je přidána k grafu, aby uživatel mohl snadno určit hodnoty nadmořské výšky zobrazené na grafu."
   ]
  },
  {
   "cell_type": "code",
   "execution_count": null,
   "metadata": {},
   "outputs": [],
   "source": [
    "# Vytvoření náhledu a osy grafu a průhlednosti\n",
    "fig, ax = plt.subplots(figsize=(10,6))\n",
    "fig.patch.set_alpha(0)\n",
    "\n",
    "# Zobrazení DEM s použitím barevného schématu 'terrain'\n",
    "plt.imshow(dem, extent=grid.extent, cmap='terrain', zorder=1)\n",
    "\n",
    "# Přidání legendy\n",
    "plt.colorbar(label='Nadmořská výška (m)')\n",
    "\n",
    "# Přidání mřížky\n",
    "plt.grid(zorder=0)\n",
    "\n",
    "# Popisky\n",
    "plt.title('Digitální výšková mapa', size=14)\n",
    "plt.xlabel('Zeměpisná délka')\n",
    "plt.ylabel('Zeměpisná šířka')\n",
    "plt.tight_layout()"
   ]
  },
  {
   "cell_type": "markdown",
   "metadata": {},
   "source": [
    "## Úpravy v digitálním modelu terénu (DEM)\n",
    "\n",
    "**Tato část kódu provádí několik úprav v digitálním modelu terénu (DEM) za účelem zajištění jeho přesnosti a konzistence:**\n",
    "\n",
    "- **Vyplnění propadlin**: Funkce `grid.fill_pits()` vyplňuje propadliny v digitálním modelu terénu (DEM). Propadliny jsou oblasti, kde voda stéká do jednoho bodu, což může způsobit problémy při analýze hydrologických dat.\n",
    "\n",
    "- **Vyplnění depresí**: Funkce `grid.fill_depressions()` vyplňuje depresní oblasti v digitálním modelu terénu (DEM). Deprese jsou oblasti, ve kterých voda nemá odvodňování do okolních oblastí, což může vést k nekonzistentním výsledkům při analýze toku vody.\n",
    "\n",
    "- **Oprava plochých oblastí**: Funkce `grid.resolve_flats()` provádí opravy plochých oblastí v digitálním modelu terénu (DEM). Ploché oblasti jsou místa, kde voda nemá jednoznačný směr toku, což může vést k nesprávným výsledkům při analýze toku vody. Oprava těchto oblastí zajistí, že tok vody bude správně modelován a analyzován."
   ]
  },
  {
   "cell_type": "code",
   "execution_count": null,
   "metadata": {},
   "outputs": [],
   "source": [
    "# Vyplnění propadlin v digitálním modelu terénu\n",
    "pit_filled_dem = grid.fill_pits(dem)\n",
    "\n",
    "# Vyplnění depresí\n",
    "flooded_dem = grid.fill_depressions(pit_filled_dem)\n",
    "\n",
    "# Oprava plochých oblastí v digitálním modelu terénu\n",
    "inflated_dem = grid.resolve_flats(flooded_dem)"
   ]
  },
  {
   "cell_type": "markdown",
   "metadata": {},
   "source": [
    "## Definice směrů toku (flow directions)\n",
    "\n",
    "**V této části kódu jsou definovány směry toku, které budou použity pro výpočet toku vody v digitálním modelu terénu. Směry toku jsou určeny pomocí číselných hodnot, které odpovídají osmi světovým stranám.**\n",
    "\n",
    "- Proměnná `dirmap` obsahuje seznam osmi číselných hodnot, které reprezentují směry toku. Čísla jsou vyjádřena jako mocniny čísla 2, což umožňuje snadné porovnání směrů toku pomocí binární reprezentace.\n",
    "\n",
    "- Výpočet směrů toku je proveden pomocí metody `grid.flowdir()`, která přiřazuje každé buňce v digitálním modelu terénu (DEM) směr toku vody na základě topografie terénu a definovaných směrů. Tímto způsobem je vytvořen nový objekt `fdir`, který obsahuje informace o směrech toku v celém digitálním modelu terénu."
   ]
  },
  {
   "cell_type": "code",
   "execution_count": null,
   "metadata": {},
   "outputs": [],
   "source": [
    "# Definice směrů toku (flow directions)\n",
    "dirmap = (64, 128, 1, 2, 4, 8, 16, 32)\n",
    "\n",
    "# Výpočet směrů toku na vyplněném DEM\n",
    "fdir = grid.flowdir(inflated_dem, dirmap=dirmap)"
   ]
  },
  {
   "cell_type": "markdown",
   "metadata": {},
   "source": [
    "## Vykreslení sítě směrů toku\n",
    "\n",
    "**V této části kódu je zobrazena síť směrů toku, která byla vypočtena na základě digitálního modelu terénu.**\n",
    "\n",
    "- První část kódu vytváří graf s definovanou velikostí pomocí `plt.figure(figsize=(10,6))`. Průhlednost pozadí je nastavena na 0 pomocí `fig.patch.set_alpha(0)`, což zajišťuje, že pozadí grafu bude průhledné.\n",
    "- Samotná síť směrů toku je zobrazena pomocí `plt.imshow()`. Barevné schéma 'viridis' je použito k vizualizaci různých směrů toku.\n",
    "- Legenda zobrazuje různé směry toku na základě definovaných hodnot v `dirmap`.\n",
    "- Popisky os a titulek grafu jsou nastaveny pro lepší orientaci.\n",
    "- Mřížka je zobrazena pod daty sítě směrů toku, což pomáhá s orientací na grafu."
   ]
  },
  {
   "cell_type": "code",
   "execution_count": null,
   "metadata": {},
   "outputs": [],
   "source": [
    "# Vymezení plátna a nastavení průhlednosti\n",
    "fig = plt.figure(figsize=(10,6))\n",
    "fig.patch.set_alpha(0)\n",
    "\n",
    "# Zobrazení směrů toku\n",
    "plt.imshow(fdir, extent=grid.extent, cmap='viridis', zorder=2)\n",
    "\n",
    "# Legenda\n",
    "boundaries = ([0] + sorted(list(dirmap)))\n",
    "plt.colorbar(boundaries=boundaries, values=sorted(dirmap))\n",
    "\n",
    "# Popisky\n",
    "plt.xlabel('Zeměpisná délka')\n",
    "plt.ylabel('Zeměpisná šířka')\n",
    "plt.title('Síť směru proudění', size=14)\n",
    "plt.grid(zorder=-1)\n",
    "plt.tight_layout()\n"
   ]
  },
  {
   "cell_type": "markdown",
   "metadata": {},
   "source": [
    "## Výpočet akumulace toku\n",
    "\n",
    "**V této části kódu je proveden výpočet akumulace toku na základě směrů toku v digitálním modelu terénu (DEM).**\n",
    "\n",
    "- Funkce `grid.accumulation()` vypočítává akumulaci toku na základě směrů toku definovaných v `fdir`. Tato akumulace toku určuje, kolik vody se nakonec dostane do každé buňky v digitálním modelu terénu na základě topografie terénu a směrů toku vody. \n",
    "- Argument `dirmap` je použit pro definici směrů toku, které jsou použity při výpočtu akumulace toku. Tento argument zajišťuje konzistenci mezi směry toku použitými při výpočtu směrů toku a akumulaci toku."
   ]
  },
  {
   "cell_type": "code",
   "execution_count": null,
   "metadata": {},
   "outputs": [],
   "source": [
    "# Výpočet akumulace toku na základě směrů toku\n",
    "acc = grid.accumulation(fdir, dirmap=dirmap)"
   ]
  },
  {
   "cell_type": "markdown",
   "metadata": {},
   "source": [
    "## Vizualizace akumulace toku\n",
    "\n",
    "**V této části kódu je vizualizována akumulace toku na základě vypočtených směrů toku.**\n",
    "\n",
    "- První část kódu vytváří graf s definovanou velikostí pomocí `plt.subplots(figsize=(8,6))`. Průhlednost pozadí je nastavena na 0 pomocí `fig.patch.set_alpha(0)`, což zajišťuje, že pozadí grafu bude průhledné.\n",
    "- Mřížka je přidána na pozadí grafu pomocí `plt.grid('on', zorder=0)`, což pomáhá s orientací na grafu.\n",
    "- Akumulace toku je zobrazena pomocí `ax.imshow()`. Barevné schéma 'cubehelix' je použito k vizualizaci různých úrovní akumulace toku.\n",
    "- Legenda je přidána pomocí `plt.colorbar()` s popiskem 'Buňky na horním toku', což umožňuje uživateli snadno interpretovat hodnoty akumulace toku.\n",
    "- Popisky os a titulek grafu jsou nastaveny pro lepší orientaci."
   ]
  },
  {
   "cell_type": "code",
   "execution_count": null,
   "metadata": {},
   "outputs": [],
   "source": [
    "# Nastavení plátna a průhlednosti\n",
    "fig, ax = plt.subplots(figsize=(8,6))\n",
    "fig.patch.set_alpha(0)\n",
    "\n",
    "# Přidání mřížky s pozadím\n",
    "plt.grid('on', zorder=0)\n",
    "\n",
    "# Zobrazení akumulace toku\n",
    "im = ax.imshow(acc, extent=grid.extent, zorder=2,\n",
    "               cmap='cubehelix',\n",
    "               norm=colors.LogNorm(1, acc.max()),\n",
    "               interpolation='bilinear')\n",
    "\n",
    "# Legenda + popis\n",
    "plt.colorbar(im, ax=ax, label='Buňky na horním toku')\n",
    "\n",
    "# Popisky\n",
    "plt.title('Akumulace toku', size=14)\n",
    "plt.xlabel('Zeměpisná délka')\n",
    "plt.ylabel('Zeměpisná šířka')\n",
    "plt.tight_layout()"
   ]
  },
  {
   "cell_type": "markdown",
   "metadata": {},
   "source": [
    "## Zjištění nejnižšího bodu v digitálním modelu terénu\n",
    "\n",
    "**V této části kódu je provedena práce nad digitálním modelem pro získání souřadnic nejnižšího bodu v rastru**\n",
    "\n",
    "- Soubor DEM je otevřen pomocí funkce `rasterio.open(dem_file)`. \n",
    "- Data DEM jsou načtena ze souboru pomocí `src.read(1)` a uložena do proměnné `dem_data`.\n",
    "- Nejnižší hodnota nadmořské výšky v digitálním modelu terénu je získána pomocí `dem_data.min()` a uložena do proměnné `min_elevation`.\n",
    "- Index nejnižší hodnoty nadmořské výšky je získán pomocí `dem_data.argmin()` a uložen do proměnné `min_index`.\n",
    "- Zeměpisné souřadnice odpovídající minimální hodnotě nadmořské výšky jsou získány pomocí `src.xy(min_index[0], min_index[1])` a uloženy do proměnných `x_min` a `y_min`."
   ]
  },
  {
   "cell_type": "code",
   "execution_count": null,
   "metadata": {},
   "outputs": [],
   "source": [
    "# Otevření DEM souboru\n",
    "with rasterio.open(dem_file) as src:\n",
    "    # Načtení dat DEM\n",
    "    dem_data = src.read(1)\n",
    "    \n",
    "    # Zjištění minimální hodnoty nadmořské výšky\n",
    "    min_elevation = dem_data.min()\n",
    "\n",
    "'''print(\"Minimální hodnota nadmořské výšky v DEM:\", min_elevation)'''\n",
    "\n",
    "# Zjištění indexu minimální hodnoty nadmořské výšky\n",
    "min_index = np.unravel_index(dem_data.argmin(), dem_data.shape)\n",
    "\n",
    "# Převod indexu na zeměpisné souřadnice\n",
    "x_min, y_min = src.xy(min_index[0], min_index[1])"
   ]
  },
  {
   "cell_type": "markdown",
   "metadata": {},
   "source": [
    "## Vytvoření povodí pro zvolený bod\n",
    "\n",
    "- Pro vybraný bod, který je definován jako nejnižší bod v rastru, jsou určeny nejbližší body na povrchu s akumulací toku nad 1000 buňek pomocí funkce `grid.snap_to_mask()`. Tyto body jsou uloženy do proměnných `x_snap` a `y_snap`.\n",
    "- Povodí je vytvořeno pro zvolený bod (určený pomocí `x_snap` a `y_snap`) pomocí funkce `grid.catchment()`. Tato funkce vytváří povodí na základě směrů toku v daném digitálním modelu terénu (DEM).\n",
    "- Mřížka je oříznuta na rozsah povodí pomocí funkce `grid.clip_to()`, což zajišťuje, že grafické zobrazení bude obsahovat pouze oblast povodí."
   ]
  },
  {
   "cell_type": "code",
   "execution_count": null,
   "metadata": {},
   "outputs": [],
   "source": [
    "# Zvolení souřadnic nejnižšího bodu v rastru\n",
    "x_min, y_min\n",
    "\n",
    "# Určení nejbližšího bodu na povrchu s akumulací toku nad 1000 buňek\n",
    "x_snap, y_snap = grid.snap_to_mask(acc > 1000, (x_min, y_min))\n",
    "\n",
    "# Vytvoření povodí pro zvolený bod (x_snap, y_snap)\n",
    "catch = grid.catchment(x=x_snap, y=y_snap, fdir=fdir, dirmap=dirmap, \n",
    "                       xytype='coordinate')\n",
    "\n",
    "# Oříznutí mřížky na rozsah povodí\n",
    "grid.clip_to(catch)\n",
    "\n",
    "# Zobrazení oříznutého povodí\n",
    "clipped_catch = grid.view(catch)"
   ]
  },
  {
   "cell_type": "markdown",
   "metadata": {},
   "source": [
    "## Extrahování říční sítě\n",
    "\n",
    "**V této části kódu je provedena extrakce říční sítě na základě směrů a akumulace toku.**\n",
    "\n",
    "- Funkce `grid.extract_river_network()` extrahuje říční sítě na základě směrů toku v `fdir` a podmínky, že akumulace toku musí být vyšší než 50. Tímto způsobem jsou identifikovány říční sítě na základě topografie terénu a množství vody ve směrech toku.\n",
    "- Výsledek extrakce říční sítě je uložen do proměnné `branches`. Tato proměnná obsahuje informace o jednotlivých větvích říční sítě, včetně souřadnic a geometrie každé větve."
   ]
  },
  {
   "cell_type": "code",
   "execution_count": null,
   "metadata": {},
   "outputs": [],
   "source": [
    "# Extrahování říční sítě\n",
    "branches = grid.extract_river_network(fdir, acc > 50, dirmap=dirmap)"
   ]
  },
  {
   "cell_type": "markdown",
   "metadata": {},
   "source": [
    "## Vizualizace směrů toku\n",
    "\n",
    "**V této části kódu jsou zobrazeny směry toku v digitálním modelu terénu (DEM) spolu s legendou popisků směrů.**\n",
    "\n",
    "- Nejprve jsou definovány popisky směrů toku pomocí seznamu `dirmap_labels`, který obsahuje textové popisky pro jednotlivé směry.\n",
    "- Barevná paleta je nastavena pomocí knihovny Seaborn na základě palety 'husl'.\n",
    "- Graf je vytvořen s pomocí funkce `plt.subplots(figsize=(8.5,6.5))`, kde jsou nastaveny velikosti osy X a Y na základě rozsahu mřížky digitálního modelu terénu (DEM).\n",
    "- Vykreslení jednotlivých větví říční sítě je provedeno pomocí iterace přes všechny větve v proměnné `branches['features']`.\n",
    "- Legenda je vytvořena ručně pomocí barev z palety 'husl' a popisků směrů z proměnné `dirmap_labels`. Legenda je přidána do grafu v pravém horním rohu s pomocí `plt.legend()`."
   ]
  },
  {
   "cell_type": "code",
   "execution_count": null,
   "metadata": {},
   "outputs": [],
   "source": [
    "# Definice seznamu popisků směrů toku\n",
    "dirmap_labels = ['Východ', 'Severovýchod', 'Sever', 'Severozápad', 'Západ', 'Jihozápad', 'Jih', 'Jihovýchod']\n",
    "\n",
    "# Nastavení barev palety pomocí knihovny Seaborn\n",
    "sns.set_palette('husl')\n",
    "\n",
    "# Vytvoření mapy a os\n",
    "fig, ax = plt.subplots(figsize=(8.5,6.5))\n",
    "plt.xlim(grid.bbox[0], grid.bbox[2])\n",
    "plt.ylim(grid.bbox[1], grid.bbox[3])\n",
    "\n",
    "# Nastavení stejného měřítka na obě osy pro zachování poměru stran\n",
    "ax.set_aspect('equal')\n",
    "\n",
    "# Iterace přes jednotlivé větve říční sítě\n",
    "for branch in branches['features']:\n",
    "    # Extrahování souřadnic linie větve\n",
    "    line = np.asarray(branch['geometry']['coordinates'])\n",
    "    # Vykreslení linie\n",
    "    plt.plot(line[:, 0], line[:, 1])\n",
    "\n",
    "# Nastavení titulku grafu\n",
    "_ = plt.title('Směry toku', size=14)\n",
    "\n",
    "# Seznam barev z palety husl\n",
    "colors = sns.color_palette('husl', len(dirmap_labels))\n",
    "\n",
    "# Ruční vytvoření legendy\n",
    "legend_handles = [mpatches.Patch(color=colors[i], label=dirmap_labels[i]) for i in range(len(dirmap_labels))]\n",
    "\n",
    "# Přidání legendy do grafu s umístěním v pravém horním rohu\n",
    "plt.legend(handles=legend_handles, title='Směry toku', loc='upper right', fontsize='small')"
   ]
  },
  {
   "cell_type": "markdown",
   "metadata": {},
   "source": [
    "## Výpočet vzdálenosti od ústí do každé buňky\n",
    "\n",
    "**V této části kódu je proveden výpočet vzdálenosti od ústí do každé buňky v digitálním modelu terénu.**\n",
    "\n",
    "- Funkce `grid.distance_to_outlet()` vypočítává vzdálenost od ústí do každé buňky na základě zadaných parametrů:\n",
    "  - `x` a `y`: souřadnice bodu na povrchu, který slouží jako ústí\n",
    "  - `fdir`: směry toku v digitálním modelu terénu (DEM)\n",
    "  - `dirmap`: mapa směrů\n",
    "  - `xytype='coordinate'`: specifikace, že souřadnice bodu jsou v zeměpisném formátu.\n",
    "\n",
    "- Výsledná vzdálenost od ústí do každé buňky je uložena do proměnné `dist`."
   ]
  },
  {
   "cell_type": "code",
   "execution_count": null,
   "metadata": {},
   "outputs": [],
   "source": [
    "# Výpočet vzdálenosti od ústí do každé buňky\n",
    "dist = grid.distance_to_outlet(x=x_snap, y=y_snap, fdir=fdir, dirmap=dirmap,\n",
    "                               xytype='coordinate')"
   ]
  },
  {
   "cell_type": "markdown",
   "metadata": {},
   "source": [
    "## Vizualizace vzdálenosti toku\n",
    "\n",
    "**V této části kódu je provedena vizualizace vzdálenosti od ústí do každé buňky v digitálním modelu terénu**\n",
    "\n",
    "- Nejprve je vytvořena instance obrázku a osy s pomocí funkce `plt.subplots(figsize=(10,6))`. Průhlednost obrázku je nastavena na nulu.\n",
    "- Mřížka je přidána pomocí `plt.grid('on', zorder=0)` pro lepší orientaci.\n",
    "- Vykreslení vzdálenosti je provedeno pomocí `ax.imshow()`, kde je použit colormap 'cubehelix_r' pro zobrazení barevného schématu. Zde `dist` obsahuje vzdálenosti od ústí do každé buňky.\n",
    "- Barevná škála je přidána pomocí `plt.colorbar()` s popiskem 'Vzdálenost k odtoku (buňky)'.\n",
    "- Popisky os X a Y jsou nastaveny na 'Zeměpisná délka' a 'Zeměpisná šířka' a titul je nastaven na 'Vzdálenost toku'."
   ]
  },
  {
   "cell_type": "code",
   "execution_count": null,
   "metadata": {},
   "outputs": [],
   "source": [
    "# Vytvoření vizualizace\n",
    "fig, ax = plt.subplots(figsize=(10,6))\n",
    "fig.patch.set_alpha(0)\n",
    "plt.grid('on', zorder=0)\n",
    "\n",
    "# Vykreslení vzdálenosti od ústí do každé buňky na základě DEM\n",
    "im = ax.imshow(dist, extent=grid.extent, zorder=2,\n",
    "               cmap='cubehelix_r')\n",
    "\n",
    "# PLegenda a popisky\n",
    "plt.colorbar(im, ax=ax, label='Vzdálenost k odtoku (buňky)')\n",
    "plt.xlabel('Zeměpisná délka')\n",
    "plt.ylabel('Zeměpisná šířka')\n",
    "plt.title('Vzdálenost toku', size=14)"
   ]
  }
 ],
 "metadata": {
  "kernelspec": {
   "display_name": "Python 3",
   "language": "python",
   "name": "python3"
  },
  "language_info": {
   "codemirror_mode": {
    "name": "ipython",
    "version": 3
   },
   "file_extension": ".py",
   "mimetype": "text/x-python",
   "name": "python",
   "nbconvert_exporter": "python",
   "pygments_lexer": "ipython3",
   "version": "3.11.8"
  }
 },
 "nbformat": 4,
 "nbformat_minor": 2
}
