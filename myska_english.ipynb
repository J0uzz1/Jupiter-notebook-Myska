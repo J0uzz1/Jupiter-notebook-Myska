{
 "cells": [
  {
   "cell_type": "markdown",
   "metadata": {},
   "source": [
    "# **FLOW ACCUMULATION**"
   ]
  },
  {
   "cell_type": "markdown",
   "metadata": {},
   "source": [
    "## Loading the required libraries\n",
    "\n",
    "**This section of code loads the libraries needed to create the FLOW ACCUMULATION script. Here is a brief description of each of the libraries used:**\n",
    "\n",
    "- `numpy`: for working with numeric data and vector operations\n",
    "- `pysheds.grid`: for handling digital elevation model (DEM) and hydrological analyses\n",
    "- `matplotlib.pyplot`: for data visualisation and graphical output\n",
    "- `matplotlib.colors`: for working with colours\n",
    "- `matplotlib.patches`: for creating graphical elements\n",
    "- `seaborn`: for statistical data visualization, extension over matplotlib\n",
    "- `rasterio`: for working with rasters and reading/writing them"
   ]
  },
  {
   "cell_type": "code",
   "execution_count": 1,
   "metadata": {},
   "outputs": [],
   "source": [
    "# Loading the necessary libraries\n",
    "import numpy as np\n",
    "from pysheds.grid import Grid\n",
    "import matplotlib.pyplot as plt\n",
    "from matplotlib import colors\n",
    "import matplotlib.patches as mpatches\n",
    "import seaborn as sns\n",
    "import rasterio"
   ]
  },
  {
   "cell_type": "markdown",
   "metadata": {},
   "source": [
    "## Loading digital elevation model (DEM)\n",
    "\n",
    "**This part of the code retrieves the digital terrain model (DEM) from the given path.** \n",
    "\n",
    "- The `dem_file` variable contains the path to the DEM file.\n",
    "- The `grid` variable creates a Grid object from the `pysheds` library that will be used to manipulate the DEM data. \n",
    "- The `dem` variable contains the actual DEM data read from the file using the `grid` object."
   ]
  },
  {
   "cell_type": "code",
   "execution_count": null,
   "metadata": {},
   "outputs": [],
   "source": [
    "# Insert relative path to file\n",
    "path='data/dem3.tif'\n",
    "\n",
    "# Load digital elevation model (DEM) from the attached path\n",
    "grid = Grid.from_raster(path)\n",
    "dem = grid.read_raster(path)\n",
    "dem_file = path"
   ]
  },
  {
   "cell_type": "markdown",
   "metadata": {},
   "source": [
    "## Creating a digital terrain model (DEM) preview\n",
    "\n",
    "**This section of code creates a visual preview of the digital terrain model. The graph shows the elevations of different areas.**\n",
    "\n",
    "- The graph has a defined size and a transparent background, which makes it easier to read.\n",
    "- The 'terrain' color scheme is used to display the different elevation levels. In this way, different altitudes can be easily distinguished.\n",
    "- A legend is added to the chart to allow the user to easily identify the elevation values displayed on the chart."
   ]
  },
  {
   "cell_type": "code",
   "execution_count": null,
   "metadata": {},
   "outputs": [],
   "source": [
    "# Create a preview and axis chart and transparency\n",
    "fig, ax = plt.subplots(figsize=(10,6))\n",
    "fig.patch.set_alpha(0)\n",
    "\n",
    "# Display DEM using the 'terrain' color scheme\n",
    "plt.imshow(dem, extent=grid.extent, cmap='terrain', zorder=1)\n",
    "\n",
    "# Adding a legend\n",
    "plt.colorbar(label='Elevation (m)')\n",
    "\n",
    "# Adding a grid\n",
    "plt.grid(zorder=0)\n",
    "\n",
    "# Labels\n",
    "plt.title('Digital elevation map', size=14)\n",
    "plt.xlabel('Longitude')\n",
    "plt.ylabel('Latitude')\n",
    "plt.tight_layout()"
   ]
  },
  {
   "cell_type": "markdown",
   "metadata": {},
   "source": [
    "## Modifications in the Digital Terrain Model (DEM)\n",
    "\n",
    "**This section of code makes several modifications to the Digital Elevation Model (DEM) to ensure its accuracy and consistency:**\n",
    "\n",
    "- **Fill potholes**: The `grid.fill_pits()` function fills potholes in the digital elevation model (DEM). Potholes are areas where water flows into a single point, which can cause problems when analyzing hydrologic data.\n",
    "\n",
    "- **Fill Depressions**: The `grid.fill_depressions()` function fills depressions in a digital elevation model (DEM). Depressions are areas where water does not drain into surrounding areas, which can lead to inconsistent results when analyzing water flow.\n",
    "\n",
    "- **Flat Area Correction**: The `grid.resolve_flats()` function corrects flat areas in the Digital Elevation Model (DEM). Flat areas are locations where water does not have a clear direction of flow, which can lead to inconsistent results when analyzing water flow. Correcting these areas will ensure that water flow is correctly modeled and analyzed."
   ]
  },
  {
   "cell_type": "code",
   "execution_count": 4,
   "metadata": {},
   "outputs": [],
   "source": [
    "# Filling potholes in the digital terrain model\n",
    "pit_filled_dem = grid.fill_pits(dem)\n",
    "\n",
    "# Fill depressions\n",
    "flooded_dem = grid.fill_depressions(pit_filled_dem)\n",
    "\n",
    "# Fix flat areas in the digital terrain model\n",
    "inflated_dem = grid.resolve_flats(flooded_dem)"
   ]
  },
  {
   "cell_type": "markdown",
   "metadata": {},
   "source": [
    "## Definition of flow directions\n",
    "\n",
    "**This part of the code defines the flow directions that will be used to calculate the water flow in the digital terrain model. The flow directions are defined using numerical values that correspond to the eight cardinal directions.**\n",
    "\n",
    "- The variable `dirmap` contains a list of eight numeric values that represent the flow directions. The numbers are expressed as powers of 2, allowing easy comparison of flow directions using a binary representation.\n",
    "\n",
    "- The calculation of flow directions is performed using the `grid.flowdir()` method, which assigns each cell in the digital elevation model (DEM) a flow direction based on the topography of the terrain and the defined directions. In this way, a new `fdir` object is created that contains information about the flow directions throughout the digital terrain model."
   ]
  },
  {
   "cell_type": "code",
   "execution_count": 5,
   "metadata": {},
   "outputs": [],
   "source": [
    "# Definice směrů toku (flow directions)\n",
    "dirmap = (64, 128, 1, 2, 4, 8, 16, 32)\n",
    "\n",
    "# Výpočet směrů toku na vyplněném DEM\n",
    "fdir = grid.flowdir(inflated_dem, dirmap=dirmap)"
   ]
  },
  {
   "cell_type": "markdown",
   "metadata": {},
   "source": [
    "## Plotting the flow direction network\n",
    "\n",
    "**This part of the code shows the flow direction network that was calculated based on the digital terrain model.**\n",
    "\n",
    "- The first part of the code creates a graph with a defined size using `plt.figure(figsize=(10,6))`. The background transparency is set to 0 using `fig.patch.set_alpha(0)`, which ensures that the background of the graph will be transparent.\n",
    "- The flow direction network itself is displayed using `plt.imshow()`. The color scheme `viridis` is used to visualize the different flow directions.\n",
    "- The legend shows the different flow directions based on the values defined in `dirmap`.\n",
    "- The axis labels and the chart title are set for better orientation.\n",
    "- The grid is displayed below the flow direction grid data to help with orientation on the graph."
   ]
  },
  {
   "cell_type": "code",
   "execution_count": null,
   "metadata": {},
   "outputs": [],
   "source": [
    "# Canvas definition and transparency settings\n",
    "fig = plt.figure(figsize=(10,6))\n",
    "fig.patch.set_alpha(0)\n",
    "\n",
    "# Display flow directions\n",
    "plt.imshow(fdir, extent=grid.extent, cmap='viridis', zorder=2)\n",
    "\n",
    "# Legend\n",
    "boundaries = ([0] + sorted(list(dirmap)))\n",
    "plt.colorbar(boundaries=boundaries, values=sorted(dirmap))\n",
    "\n",
    "# Labels\n",
    "plt.xlabel('Longitude')\n",
    "plt.ylabel('Latitude')\n",
    "plt.title('Flow direction network', size=14)\n",
    "plt.grid(zorder=-1)\n",
    "plt.tight_layout()"
   ]
  },
  {
   "cell_type": "markdown",
   "metadata": {},
   "source": [
    "## Flow accumulation calculation\n",
    "\n",
    "**This part of the code calculates the flow accumulation based on the flow directions in the Digital Elevation Model (DEM).**\n",
    "\n",
    "- The `grid.accumulation()` function calculates the flow accumulation based on the flow directions defined in `fdir`. This flow accumulation determines how much water eventually reaches each cell in the digital terrain model based on the terrain topography and flow directions. \n",
    "- The `dirmap` argument is used to define the flow directions that are used in the flow accumulation calculation. This argument ensures consistency between the flow directions used in the calculation of the flow directions and the flow accumulation."
   ]
  },
  {
   "cell_type": "code",
   "execution_count": 7,
   "metadata": {},
   "outputs": [],
   "source": [
    "# Flow accumulation calculation based on flow directions\n",
    "acc = grid.accumulation(fdir, dirmap=dirmap)"
   ]
  },
  {
   "cell_type": "markdown",
   "metadata": {},
   "source": [
    "## Flow accumulation visualization\n",
    "\n",
    "**This part of the code visualizes the flow accumulation based on the calculated flow directions.**\n",
    "\n",
    "- The first part of the code creates a graph with a defined size using `plt.subplots(figsize=(8,6))`. The background transparency is set to 0 using `fig.patch.set_alpha(0)`, which ensures that the graph background is transparent.\n",
    "- A grid is added to the graph background using `plt.grid('on', zorder=0)`, which helps with orientation on the graph.\n",
    "- Flow accumulation is shown using `ax.imshow()`. The color scheme `cubehelix` is used to visualize different levels of flux accumulation.\n",
    "- A legend is added using `plt.colorbar()` with the label 'Cells on top of flux', allowing the user to easily interpret the flux accumulation values.\n",
    "- The axis labels and the graph caption are set for better orientation."
   ]
  },
  {
   "cell_type": "code",
   "execution_count": null,
   "metadata": {},
   "outputs": [],
   "source": [
    "# Canvas and transparency settings\n",
    "fig, ax = plt.subplots(figsize=(8,6))\n",
    "fig.patch.set_alpha(0)\n",
    "\n",
    "# Add grid with background\n",
    "plt.grid('on', zorder=0)\n",
    "\n",
    "# Display flow accumulation\n",
    "im = ax.imshow(acc, extent=grid.extent, zorder=2,\n",
    "               cmap='cubehelix',\n",
    "               norm=colors.LogNorm(1, acc.max()),\n",
    "               interpolation='bilinear')\n",
    "\n",
    "# Legend + description\n",
    "plt.colorbar(im, ax=ax, label='Upstream cells')\n",
    "\n",
    "# Labels\n",
    "plt.title('Flow accumulation', size=14)\n",
    "plt.xlabel('Longitude')\n",
    "plt.ylabel('Latitude')\n",
    "plt.tight_layout()"
   ]
  },
  {
   "cell_type": "markdown",
   "metadata": {},
   "source": [
    "## Finding the lowest point in the digital terrain model\n",
    "\n",
    "**This section of code works on the digital model to obtain the coordinates of the lowest point in the raster**\n",
    "\n",
    "- The DEM file is opened using the `rasterio.open(dem_file)` function. \n",
    "- The DEM data is read from the file using `src.read(1)` and stored in the variable `dem_data`.\n",
    "- The lowest elevation value in the digital terrain model is obtained using `dem_data.min()` and stored in the variable `min_elevation`.\n",
    "- The index of the lowest elevation value is obtained by `dem_data.argmin()` and stored in the variable `min_index`.\n",
    "- The geographic coordinates corresponding to the minimum elevation value are obtained using `src.xy(min_index[0], min_index[1])` and stored in the variables `x_min` and `y_min`."
   ]
  },
  {
   "cell_type": "code",
   "execution_count": 9,
   "metadata": {},
   "outputs": [],
   "source": [
    "# Otevření DEM souboru\n",
    "with rasterio.open(dem_file) as src:\n",
    "    # Načtení dat DEM\n",
    "    dem_data = src.read(1)\n",
    "    \n",
    "    # Zjištění minimální hodnoty nadmořské výšky\n",
    "    min_elevation = dem_data.min()\n",
    "\n",
    "# Zjištění indexu minimální hodnoty nadmořské výšky\n",
    "min_index = np.unravel_index(dem_data.argmin(), dem_data.shape)\n",
    "\n",
    "# Převod indexu na zeměpisné souřadnice\n",
    "x_min, y_min = src.xy(min_index[0], min_index[1])"
   ]
  },
  {
   "cell_type": "markdown",
   "metadata": {},
   "source": [
    "## Create a basin for the selected point\n",
    "\n",
    "- For the selected point, which is defined as the lowest point in the grid, the nearest points on the surface with flux accumulation above 1000 cells are determined using the `grid.snap_to_mask()` function. These points are stored in the variables `x_snap` and `y_snap`.\n",
    "- A catchment is created for the selected point (determined by `x_snap` and `y_snap`) using the `grid.catchment()` function. This function creates a catchment based on the flow directions in a given digital elevation model (DEM).\n",
    "- The grid is clipped to the extent of the catchment area using the `grid.clip_to()` function, ensuring that the graphical display contains only the catchment area."
   ]
  },
  {
   "cell_type": "code",
   "execution_count": 10,
   "metadata": {},
   "outputs": [],
   "source": [
    "# Select the coordinates of the lowest point in the grid\n",
    "x_min, y_min\n",
    "\n",
    "# Determine the nearest point on the surface with flux accumulation above 1000 cells\n",
    "x_snap, y_snap = grid.snap_to_mask(acc > 1000, (x_min, y_min))\n",
    "\n",
    "# Create a basin for the selected point (x_snap, y_snap)\n",
    "catch = grid.catchment(x=x_snap, y=y_snap, fdir=fdir, dirmap=dirmap, \n",
    "                       xytype='coordinate')\n",
    "\n",
    "# Crop grid to catchment range\n",
    "grid.clip_to(catch)\n",
    "\n",
    "# Display the clipped watershed\n",
    "clipped_catch = grid.view(catch)"
   ]
  },
  {
   "cell_type": "markdown",
   "metadata": {},
   "source": [
    "## River network extraction\n",
    "\n",
    "**This section of code extracts the river network based on flow directions and accumulation.**\n",
    "\n",
    "- The `grid.extract_river_network()` function extracts river networks based on the flow directions in `fdir` and the condition that the flow accumulation must be greater than 50. In this way, river networks are identified based on the topography of the terrain and the amount of water in the flow directions.\n",
    "- The result of river network extraction is stored in the variable `branches`. This variable contains information about each branch of the river network, including the coordinates and geometry of each branch."
   ]
  },
  {
   "cell_type": "code",
   "execution_count": 11,
   "metadata": {},
   "outputs": [],
   "source": [
    "# River network extraction\n",
    "branches = grid.extract_river_network(fdir, acc > 50, dirmap=dirmap)"
   ]
  },
  {
   "cell_type": "markdown",
   "metadata": {},
   "source": [
    "## Visualization of flow directions\n",
    "\n",
    "**This part of the code shows the flow directions in the digital elevation model (DEM) along with the legend of the direction labels.**\n",
    "\n",
    "- First, the flow direction labels are defined using the `dirmap_labels` list, which contains text labels for each direction.\n",
    "- The color palette is set using the Seaborn library based on the `fiddle' palette.\n",
    "- The graph is created using the function `plt.subplots(figsize=(8.5,6.5))`, where the X and Y axis sizes are set based on the scale of the Digital Elevation Model (DEM) grid.\n",
    "- The plotting of each branch of the river network is done by iterating over all branches in the variable `branches['features']`.\n",
    "- The legend is created manually using colors from the `violin` palette and direction labels from the `dirmap_labels` variable. The legend is added to the chart in the upper right corner with `plt.legend()`."
   ]
  },
  {
   "cell_type": "code",
   "execution_count": null,
   "metadata": {},
   "outputs": [],
   "source": [
    "# Flow direction labels list definition\n",
    "dirmap_labels = ['East', 'Northeast', 'North', 'Northwest', 'West', 'Southwest', 'South', 'Southeast']\n",
    "\n",
    "# Setting the palette colours using the Seaborn library\n",
    "sns.set_palette('violin')\n",
    "\n",
    "# Create map and axes\n",
    "fig, ax = plt.subplots(figsize=(8.5,6.5))\n",
    "plt.xlim(grid.bbox[0], grid.bbox[2])\n",
    "plt.ylim(grid.bbox[1], grid.bbox[3])\n",
    "\n",
    "# Set the same scale on both axes to maintain the aspect ratio\n",
    "ax.set_aspect('equal')\n",
    "\n",
    "# Iterate over each branch of the river grid\n",
    "for branch in branches['features']:\n",
    "    # Extracting branch line coordinates\n",
    "    line = np.asarray(branch['geometry']['coordinates'])\n",
    "    # Plotting the line\n",
    "    plt.plot(line[:, 0], line[:, 1])\n",
    "\n",
    "# Set the plot caption\n",
    "_ = plt.title('Flow directions', size=14)\n",
    "\n",
    "# List of colors from the violin palette\n",
    "colors = sns.color_palette('violin', len(dirmap_labels))\n",
    "\n",
    "# Manual creation of the legend\n",
    "legend_handles = [mpatches.Patch(color=colors[i], label=dirmap_labels[i]) for i in range(len(dirmap_labels))]\n",
    "\n",
    "# Adding a legend to the chart with the location in the upper right corner\n",
    "plt.legend(handles=legend_handles, title='Flow directions', loc='upper right', fontsize='small')"
   ]
  },
  {
   "cell_type": "markdown",
   "metadata": {},
   "source": [
    "## Calculating the distance from the mouth to each cell\n",
    "\n",
    "**This section of code calculates the distance from the mouth to each cell in the digital terrain model.**\n",
    "\n",
    "- The `grid.distance_to_outlet()` function calculates the distance from the outlet to each cell based on the specified parameters:\n",
    "  - `x` and `y`: coordinates of the point on the surface that serves as the outlet\n",
    "  - `fdir`: flow directions in the digital elevation model (DEM)\n",
    "  - `dirmap`: map of directions\n",
    "  - `xytype='coordinate'`: specification that the coordinates of the point are in geographic format.\n",
    "\n",
    "- The resulting distance from the mouth to each cell is stored in the variable `dist`."
   ]
  },
  {
   "cell_type": "code",
   "execution_count": 13,
   "metadata": {},
   "outputs": [],
   "source": [
    "# Calculating the distance from the mouth to each cell\n",
    "dist = grid.distance_to_outlet(x=x_snap, y=y_snap, fdir=fdir, dirmap=dirmap,\n",
    "                               xytype='coordinate')"
   ]
  },
  {
   "cell_type": "markdown",
   "metadata": {},
   "source": [
    "## Flow distance visualization\n",
    "\n",
    "**This part of the code visualizes the distance from the mouth to each cell in the digital terrain model**\n",
    "\n",
    "- First, a figure and axis instance is created using the `plt.subplots(figsize=(10,6))` function. The transparency of the figure is set to zero.\n",
    "- A grid is added using `plt.grid('on', zorder=0)` for better orientation.\n",
    "- Distance rendering is done using `ax.imshow()`, where colormap 'cubehelix_r' is used to display the color scheme. Here `dist` contains the distances from the mouth to each cell.\n",
    "- The colormap is added using `plt.colorbar()` with the label 'Distance to outflow (cell)'.\n",
    "- The X and Y axis labels are set to 'Longitude' and 'Latitude' and the title is set to 'Distance to flow'."
   ]
  },
  {
   "cell_type": "code",
   "execution_count": null,
   "metadata": {},
   "outputs": [],
   "source": [
    "# Create visualization\n",
    "fig, ax = plt.subplots(figsize=(10,6))\n",
    "fig.patch.set_alpha(0)\n",
    "plt.grid('on', zorder=0)\n",
    "\n",
    "# Plot the distance from the mouth to each cell based on the DEM\n",
    "im = ax.imshow(dist, extent=grid.extent, zorder=2,\n",
    "               cmap='cubehelix_r')\n",
    "\n",
    "# PLegenda and labels\n",
    "plt.colorbar(im, ax=ax, label='Distance to drain (cell)')\n",
    "plt.xlabel('Longitude')\n",
    "plt.ylabel('Latitude')\n",
    "plt.title('Distance to flow', size=14)"
   ]
  }
 ],
 "metadata": {
  "kernelspec": {
   "display_name": "myska2",
   "language": "python",
   "name": "python3"
  },
  "language_info": {
   "codemirror_mode": {
    "name": "ipython",
    "version": 3
   },
   "file_extension": ".py",
   "mimetype": "text/x-python",
   "name": "python",
   "nbconvert_exporter": "python",
   "pygments_lexer": "ipython3",
   "version": "3.11.8"
  }
 },
 "nbformat": 4,
 "nbformat_minor": 2
}
